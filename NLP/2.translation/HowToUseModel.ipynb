{
 "cells": [
  {
   "cell_type": "markdown",
   "metadata": {
    "slideshow": {
     "slide_type": "slide"
    }
   },
   "source": [
    "# simple model——如何使用建模框架\n",
    "\n",
    "使用建模框架实现两个模型：\n",
    "\n",
    "- char分词attention模型\n",
    "- jieba分词attention模型\n"
   ]
  },
  {
   "cell_type": "markdown",
   "metadata": {
    "slideshow": {
     "slide_type": "slide"
    }
   },
   "source": [
    "# 1. char分词建模\n"
   ]
  },
  {
   "cell_type": "markdown",
   "metadata": {
    "slideshow": {
     "slide_type": "subslide"
    }
   },
   "source": [
    "## train\n",
    "### 参数设置——utils\n",
    "- 数据：cmn.txt\n",
    "- 切词：char\n",
    "- 句子：200\n",
    "\n",
    "### 参数设置——train\n",
    "\n",
    "- outputdir: logs/char\n",
    "- epochs: 50\n",
    "- unit type: lstm\n",
    "- units num: 256\n",
    "- num layer: 2\n",
    "- attention: luong\n",
    "- optimizer: sdg\n",
    "- learnrate: 1\n",
    "- keepprob : 0.8\n"
   ]
  },
  {
   "cell_type": "code",
   "execution_count": 1,
   "metadata": {
    "slideshow": {
     "slide_type": "subslide"
    }
   },
   "outputs": [
    {
     "name": "stdout",
     "output_type": "stream",
     "text": [
      "restore model from  logs/char_2_256\n",
      "INFO:tensorflow:Restoring parameters from logs/char_2_256/model\n",
      "epochs 0 : average loss =  2.077897276878357\n",
      "epochs 5 : average loss =  1.812596092224121\n",
      "epochs 10 : average loss =  1.3171268725395202\n",
      "epochs 15 : average loss =  1.208145541548729\n",
      "epochs 20 : average loss =  1.0813179659843444\n",
      "epochs 25 : average loss =  0.9847841136157512\n",
      "epochs 30 : average loss =  0.6884907965362072\n",
      "epochs 35 : average loss =  0.5871514855325222\n",
      "epochs 40 : average loss =  0.6516741314530372\n",
      "epochs 45 : average loss =  0.6519982025399804\n"
     ]
    }
   ],
   "source": [
    "# 包含数据处理函数\n",
    "from utils import GenData\n",
    "# 包含模型参数文件\n",
    "from params import create_hparams\n",
    "# 模型文件\n",
    "from model import BaseModel\n",
    "\n",
    "data = GenData('cmn.txt','char',200)\n",
    "param = create_hparams()\n",
    "param.out_dir = 'logs/char'\n",
    "param.encoder_vocab_size = len(data.id2en)\n",
    "param.decoder_vocab_size = len(data.id2ch)\n",
    "\n",
    "model = BaseModel(param, 'train')\n",
    "model.train(data)"
   ]
  },
  {
   "cell_type": "markdown",
   "metadata": {
    "slideshow": {
     "slide_type": "subslide"
    }
   },
   "source": [
    "## infer\n",
    "### 参数设置——utils\n",
    "- 同train\n",
    "\n",
    "### 参数设置——infer\n",
    "\n",
    "- 解码方法：greedy（beam search有bug）\n",
    "\n",
    "set `param.batch_size = 1`\n",
    "\n",
    "set `model = BaseModel(param, 'infer')`\n",
    "\n",
    "use `model.inference(data)` make inference work"
   ]
  },
  {
   "cell_type": "code",
   "execution_count": 2,
   "metadata": {
    "slideshow": {
     "slide_type": "subslide"
    }
   },
   "outputs": [
    {
     "name": "stdout",
     "output_type": "stream",
     "text": [
      "restore model from  logs/char_2_256\n",
      "INFO:tensorflow:Restoring parameters from logs/char_2_256/model\n",
      "input english: Why me?\n",
      "output chinese: 为什么是我？<EOS>\n",
      "input english: Ask Tom.\n",
      "output chinese: 去问汤姆。<EOS>\n",
      "input english: Call us.\n",
      "output chinese: 联系我们。<EOS>\n",
      "input english: Humor me.\n",
      "output chinese: 你就随了我<EOS>\n",
      "input english: Can I help?\n",
      "output chinese: 我可以幫忙嗎?<EOS>\n",
      "input english: Hey, relax.\n",
      "output chinese: 嘿，放松点。<EOS>\n",
      "input english: I eat here.\n",
      "output chinese: 我我這裡裡。<EOS>\n",
      "input english: exit\n"
     ]
    }
   ],
   "source": [
    "from utils import GenData\n",
    "from params import create_hparams\n",
    "from model import BaseModel\n",
    "\n",
    "\n",
    "data = GenData('cmn.txt','char',200)\n",
    "param = create_hparams()\n",
    "param.out_dir = 'logs/char'\n",
    "param.encoder_vocab_size = len(data.id2en)\n",
    "param.decoder_vocab_size = len(data.id2ch)\n",
    "\n",
    "# infer模式下需要改动\n",
    "param.batch_size = 1\n",
    "param.keepprob = 1\n",
    "\n",
    "model = BaseModel(param, 'infer')\n",
    "model.inference(data)"
   ]
  },
  {
   "cell_type": "markdown",
   "metadata": {
    "slideshow": {
     "slide_type": "slide"
    }
   },
   "source": [
    "# 2. jieba分词建模\n",
    "\n"
   ]
  },
  {
   "cell_type": "markdown",
   "metadata": {
    "slideshow": {
     "slide_type": "subslide"
    }
   },
   "source": [
    "## train\n",
    "### 参数设置——utils\n",
    "- 数据：cmn.txt\n",
    "- 切词：jieba\n",
    "- 句子：200\n",
    "\n",
    "### 参数设置——train\n",
    "\n",
    "- outputdir: logs/jieba\n",
    "- epochs: 50\n",
    "- unit type: lstm\n",
    "- units num: 256\n",
    "- num layer: 2\n",
    "- attention: luong\n",
    "- optimizer: sdg\n",
    "- learnrate: 1\n",
    "- keepprob : 0.8\n"
   ]
  },
  {
   "cell_type": "code",
   "execution_count": 3,
   "metadata": {
    "slideshow": {
     "slide_type": "subslide"
    }
   },
   "outputs": [
    {
     "name": "stderr",
     "output_type": "stream",
     "text": [
      "Building prefix dict from the default dictionary ...\n",
      "Loading model from cache C:\\Users\\Hongwen\\AppData\\Local\\Temp\\jieba.cache\n",
      "Loading model cost 0.692 seconds.\n",
      "Prefix dict has been built succesfully.\n"
     ]
    },
    {
     "name": "stdout",
     "output_type": "stream",
     "text": [
      "restore model from  logs/jieba_2_256\n",
      "INFO:tensorflow:Restoring parameters from logs/jieba_2_256/model\n",
      "epochs 0 : average loss =  2.4543039417266845\n",
      "epochs 5 : average loss =  2.010868504047394\n",
      "epochs 10 : average loss =  1.6857356426119805\n",
      "epochs 15 : average loss =  1.561958097219467\n",
      "epochs 20 : average loss =  1.2476714611053468\n",
      "epochs 25 : average loss =  0.9543516409397125\n",
      "epochs 30 : average loss =  0.7893321856856346\n",
      "epochs 35 : average loss =  1.002643452435732\n",
      "epochs 40 : average loss =  0.6801241132616996\n",
      "epochs 45 : average loss =  0.6159672170877457\n"
     ]
    }
   ],
   "source": [
    "# 包含数据处理函数\n",
    "from utils import GenData\n",
    "# 包含模型参数文件\n",
    "from params import create_hparams\n",
    "# 模型文件\n",
    "from model import BaseModel\n",
    "\n",
    "data = GenData('cmn.txt','jieba',200)\n",
    "param = create_hparams()\n",
    "param.out_dir = 'logs/jieba'\n",
    "param.encoder_vocab_size = len(data.id2en)\n",
    "param.decoder_vocab_size = len(data.id2ch)\n",
    "\n",
    "model = BaseModel(param, 'train')\n",
    "model.train(data)"
   ]
  },
  {
   "cell_type": "markdown",
   "metadata": {
    "slideshow": {
     "slide_type": "subslide"
    }
   },
   "source": [
    "### 参数设置——utils\n",
    "- 同train\n",
    "\n",
    "### 参数设置——infer\n",
    "\n",
    "- 解码方法：greedy（beam search有bug）\n",
    "\n",
    "set `param.batch_size = 1`\n",
    "\n",
    "set `model = BaseModel(param, 'infer')`\n",
    "\n",
    "use `model.inference(data)` make inference work"
   ]
  },
  {
   "cell_type": "code",
   "execution_count": 4,
   "metadata": {
    "slideshow": {
     "slide_type": "subslide"
    }
   },
   "outputs": [
    {
     "name": "stdout",
     "output_type": "stream",
     "text": [
      "restore model from  logs/jieba_2_256\n",
      "INFO:tensorflow:Restoring parameters from logs/jieba_2_256/model\n",
      "input english: Why me?\n",
      "output chinese: 为什么是我？<EOS>\n",
      "input english: Ask Tom.\n",
      "output chinese: 去问汤姆。<EOS>\n",
      "input english: Call us.\n",
      "output chinese: 联系跟着我们。<EOS>\n",
      "input english: Humor me.\n",
      "output chinese: 你就随了我的意吧。<EOS>\n",
      "input english: Can I help?\n",
      "output chinese: 我可以幫忙嗎?<EOS>\n",
      "input english: Hey, relax.\n",
      "output chinese: 嘿，放松点。<EOS>\n",
      "input english: I eat here.\n",
      "output chinese: 我在這裡吃。<EOS>\n",
      "input english: exit\n"
     ]
    }
   ],
   "source": [
    "from utils import GenData\n",
    "from params import create_hparams\n",
    "from model import BaseModel\n",
    "\n",
    "\n",
    "data = GenData('cmn.txt','jieba',200)\n",
    "param = create_hparams()\n",
    "param.out_dir = 'logs/jieba'\n",
    "param.encoder_vocab_size = len(data.id2en)\n",
    "param.decoder_vocab_size = len(data.id2ch)\n",
    "\n",
    "# infer模式下需要改动\n",
    "param.batch_size = 1\n",
    "param.keepprob = 1\n",
    "\n",
    "model = BaseModel(param, 'infer')\n",
    "model.inference(data)"
   ]
  }
 ],
 "metadata": {
  "celltoolbar": "Slideshow",
  "kernelspec": {
   "display_name": "Python 3",
   "language": "python",
   "name": "python3"
  },
  "language_info": {
   "codemirror_mode": {
    "name": "ipython",
    "version": 3
   },
   "file_extension": ".py",
   "mimetype": "text/x-python",
   "name": "python",
   "nbconvert_exporter": "python",
   "pygments_lexer": "ipython3",
   "version": "3.6.5"
  }
 },
 "nbformat": 4,
 "nbformat_minor": 2
}
