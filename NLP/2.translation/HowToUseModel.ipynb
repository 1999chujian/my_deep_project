{
 "cells": [
  {
   "cell_type": "markdown",
   "metadata": {},
   "source": [
    "# simple model\n",
    "- 切词：jieba\n",
    "\n",
    "## train\n",
    "\n",
    "- unit type: lstm\n",
    "- units num: 256\n",
    "- num layer: 2\n",
    "- attention: luong\n",
    "- optimizer: sdg\n",
    "- learnrate: 1\n",
    "- keepprob : 0.8\n"
   ]
  },
  {
   "cell_type": "code",
   "execution_count": 1,
   "metadata": {},
   "outputs": [
    {
     "name": "stderr",
     "output_type": "stream",
     "text": [
      "Building prefix dict from the default dictionary ...\n",
      "Loading model from cache C:\\Users\\Hongwen\\AppData\\Local\\Temp\\jieba.cache\n",
      "Loading model cost 0.728 seconds.\n",
      "Prefix dict has been built succesfully.\n"
     ]
    },
    {
     "name": "stdout",
     "output_type": "stream",
     "text": [
      "restore model from  logs/model_2_256\n",
      "INFO:tensorflow:Restoring parameters from logs/model_2_256/model\n",
      "epochs 0 : average loss =  11.112240085601806\n",
      "epochs 1 : average loss =  10.819724845886231\n",
      "epochs 2 : average loss =  10.402397537231446\n",
      "epochs 3 : average loss =  9.998410892486572\n",
      "epochs 4 : average loss =  9.985197868347168\n",
      "epochs 5 : average loss =  9.594647998809814\n",
      "epochs 6 : average loss =  9.52293960571289\n",
      "epochs 7 : average loss =  9.000336303710938\n",
      "epochs 8 : average loss =  8.643673267364502\n",
      "epochs 9 : average loss =  8.2747074508667\n"
     ]
    }
   ],
   "source": [
    "from utils import GenData\n",
    "from params import create_hparams\n",
    "from model import BaseModel\n",
    "\n",
    "param = create_hparams()\n",
    "\n",
    "data = GenData('cmn.txt','jieba',200)\n",
    "\n",
    "param.encoder_vocab_size = len(data.id2en)\n",
    "param.decoder_vocab_size = len(data.id2ch)\n",
    "\n",
    "model = BaseModel(param, 'train')\n",
    "model.train(data)"
   ]
  },
  {
   "cell_type": "markdown",
   "metadata": {},
   "source": [
    "## infer\n",
    "\n",
    "set `param.batch_size = 1`\n",
    "\n",
    "set `model = BaseModel(param, 'infer')`\n",
    "\n",
    "use `model.inference(data)` make inference work"
   ]
  },
  {
   "cell_type": "code",
   "execution_count": null,
   "metadata": {},
   "outputs": [
    {
     "name": "stdout",
     "output_type": "stream",
     "text": [
      "restore model from  logs/model_2_256\n",
      "INFO:tensorflow:Restoring parameters from logs/model_2_256/model\n"
     ]
    }
   ],
   "source": [
    "from utils import GenData\n",
    "from params import create_hparams\n",
    "from model import BaseModel\n",
    "\n",
    "\n",
    "param = create_hparams()\n",
    "data = GenData('cmn.txt','jieba',200)\n",
    "param.encoder_vocab_size = len(data.id2en)\n",
    "param.decoder_vocab_size = len(data.id2ch)\n",
    "param.batch_size = 1\n",
    "param.keepprob = 1\n",
    "model = BaseModel(param, 'infer')\n",
    "model.inference(data)"
   ]
  },
  {
   "cell_type": "code",
   "execution_count": null,
   "metadata": {},
   "outputs": [],
   "source": []
  }
 ],
 "metadata": {
  "kernelspec": {
   "display_name": "Python 3",
   "language": "python",
   "name": "python3"
  },
  "language_info": {
   "codemirror_mode": {
    "name": "ipython",
    "version": 3
   },
   "file_extension": ".py",
   "mimetype": "text/x-python",
   "name": "python",
   "nbconvert_exporter": "python",
   "pygments_lexer": "ipython3",
   "version": "3.6.5"
  }
 },
 "nbformat": 4,
 "nbformat_minor": 2
}
