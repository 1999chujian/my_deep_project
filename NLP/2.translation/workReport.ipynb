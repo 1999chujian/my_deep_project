{
 "cells": [
  {
   "cell_type": "markdown",
   "metadata": {
    "slideshow": {
     "slide_type": "slide"
    }
   },
   "source": [
    "# 精准翻译整理\n",
    "- 开源资源\n",
    "- 实现思路\n",
    "- 工作计划\n",
    "- 工作进度\n",
    "\n",
    "\n"
   ]
  },
  {
   "cell_type": "markdown",
   "metadata": {
    "slideshow": {
     "slide_type": "slide"
    }
   },
   "source": [
    "## 1. 开源资源：\n",
    "\n",
    "- 分词工具\n",
    "- 翻译模型\n",
    "- 开源词向量\n",
    "\n"
   ]
  },
  {
   "cell_type": "markdown",
   "metadata": {
    "slideshow": {
     "slide_type": "slide"
    }
   },
   "source": [
    "### 分词工具：\n",
    "- 结巴\n",
    "- hanlp"
   ]
  },
  {
   "cell_type": "markdown",
   "metadata": {
    "slideshow": {
     "slide_type": "slide"
    }
   },
   "source": [
    "### 翻译模型：\n",
    "- 谷歌nmt框架"
   ]
  },
  {
   "cell_type": "markdown",
   "metadata": {
    "slideshow": {
     "slide_type": "slide"
    }
   },
   "source": [
    "### 开源词向量：\n",
    "- 腾讯ailab词嵌入向量（200维）\n",
    "- GLOVE词嵌入（300维）\n",
    "- BERT"
   ]
  },
  {
   "cell_type": "markdown",
   "metadata": {
    "slideshow": {
     "slide_type": "slide"
    }
   },
   "source": [
    "\n",
    "## 2. 实现思路\n",
    "### 借用工具\n",
    "通过使用nmt框架搭建seq2seq的翻译模型，在自己数据中进行翻译识别。\n",
    "\n",
    "### 定制化\n",
    "将自己所需数据加入到工具中，优化模型性能\n",
    "\n",
    "### 借用开源数据\n",
    "腾讯ailab开源800，000个词向量，谷歌最新开源bert模型，提供了很多预训练的词嵌入向量，将这些词嵌入向量参数用于初始化模型embedding层。\n"
   ]
  },
  {
   "cell_type": "markdown",
   "metadata": {
    "slideshow": {
     "slide_type": "slide"
    }
   },
   "source": [
    "### 借用工具\n",
    "通过使用nmt框架搭建seq2seq的翻译模型，在自己数据中进行翻译识别。"
   ]
  },
  {
   "cell_type": "markdown",
   "metadata": {
    "slideshow": {
     "slide_type": "slide"
    }
   },
   "source": [
    "### 定制化\n",
    "将自己所需数据加入到工具中，优化模型性能"
   ]
  },
  {
   "cell_type": "markdown",
   "metadata": {
    "slideshow": {
     "slide_type": "slide"
    }
   },
   "source": [
    "### 借用开源数据\n",
    "腾讯ailab开源800，000个词向量，谷歌最新开源bert模型，提供了很多预训练的词嵌入向量，将这些词嵌入向量参数用于初始化模型embedding层。\n"
   ]
  },
  {
   "cell_type": "markdown",
   "metadata": {
    "slideshow": {
     "slide_type": "slide"
    }
   },
   "source": [
    "## 3. 实现计划\n",
    "\n",
    "### 3.1 熟悉谷歌nmt框架，在自己数据集上完成训练模型\n",
    "### 3.2 熟悉切词工具，学习优化切词方法\n",
    "### 3.3 熟悉词向量处理方法，学习初始化词嵌入层\n",
    "### 3.4 整合模型，其中：\n",
    "- 切词工具包含腾讯ailab中800万个中文词，能够识别切分\n",
    "- 词嵌入向量覆盖所需单词，抽取训练数据中所包含的词向量\n",
    "- 模型结构使用nmt最优结构"
   ]
  }
 ],
 "metadata": {
  "celltoolbar": "Slideshow",
  "kernelspec": {
   "display_name": "Python 3",
   "language": "python",
   "name": "python3"
  },
  "language_info": {
   "codemirror_mode": {
    "name": "ipython",
    "version": 3
   },
   "file_extension": ".py",
   "mimetype": "text/x-python",
   "name": "python",
   "nbconvert_exporter": "python",
   "pygments_lexer": "ipython3",
   "version": "3.6.5"
  }
 },
 "nbformat": 4,
 "nbformat_minor": 2
}
