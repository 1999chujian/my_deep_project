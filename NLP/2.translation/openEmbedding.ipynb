{
 "cells": [
  {
   "cell_type": "markdown",
   "metadata": {
    "slideshow": {
     "slide_type": "slide"
    }
   },
   "source": [
    "# 开源词嵌入向量实验\n"
   ]
  },
  {
   "cell_type": "markdown",
   "metadata": {
    "slideshow": {
     "slide_type": "slide"
    }
   },
   "source": [
    "# 1. Tencent AI-lib \n",
    "\n",
    "下载数据：[https://ai.tencent.com/ailab/nlp/embedding.html](https://ai.tencent.com/ailab/nlp/embedding.html)\n",
    "\n",
    "Tencent AI Lab Embedding Corpus for Chinese Words and Phrases\n"
   ]
  },
  {
   "cell_type": "markdown",
   "metadata": {
    "slideshow": {
     "slide_type": "slide"
    }
   },
   "source": [
    "## 1.1 读取指定词典的词向量\n",
    "- 分词：jieba"
   ]
  },
  {
   "cell_type": "code",
   "execution_count": 1,
   "metadata": {
    "scrolled": true,
    "slideshow": {
     "slide_type": "subslide"
    }
   },
   "outputs": [],
   "source": [
    "import numpy as np\n",
    "from tqdm import tqdm\n",
    "# 包含数据处理函数\n",
    "from utils import GenData\n",
    "\n",
    "def loadEmbedding(embeddingFile, word2id, embeddingSize):\n",
    "    with open(embeddingFile, \"r\", encoding='ISO-8859-1') as f:\n",
    "        header = f.readline()\n",
    "        vocab_size, vector_size = map(int, header.split())\n",
    "        initW = np.random.uniform(-0.25,0.25,(len(word2id), vector_size))\n",
    "        count = 0\n",
    "        for i in tqdm(range(vocab_size)):\n",
    "            line = f.readline()\n",
    "            lists = line.split(' ')\n",
    "            word = lists[0]\n",
    "            try: word = word.encode('ISO-8859-1').decode('utf8')\n",
    "            except: pass\n",
    "            if word in word2id:\n",
    "                count += 1\n",
    "                number = map(float, lists[1:])\n",
    "                number = list(number)\n",
    "                vector = np.array(number)\n",
    "                initW[word2id[word]] = vector\n",
    "        print(count)\n",
    "        return initW"
   ]
  },
  {
   "cell_type": "code",
   "execution_count": 2,
   "metadata": {
    "slideshow": {
     "slide_type": "subslide"
    }
   },
   "outputs": [],
   "source": [
    "def main():\n",
    "    data = GenData('cmn.txt','jieba',200)\n",
    "    weight = loadEmbedding('E:\\\\Desktop\\\\nlp\\\\Tencent_AILab_ChineseEmbedding.txt', data.ch2id, 200)\n",
    "    print(weight.shape)\n",
    "\n",
    "#main()"
   ]
  },
  {
   "cell_type": "markdown",
   "metadata": {
    "slideshow": {
     "slide_type": "slide"
    }
   },
   "source": [
    "## 1.2 将tencent Embedding字典导入词库\n",
    "\n",
    "- 分词：jieba"
   ]
  },
  {
   "cell_type": "markdown",
   "metadata": {
    "slideshow": {
     "slide_type": "slide"
    }
   },
   "source": [
    "### 1.2.1 未载入自定义词典分词"
   ]
  },
  {
   "cell_type": "code",
   "execution_count": 3,
   "metadata": {
    "slideshow": {
     "slide_type": "subslide"
    }
   },
   "outputs": [
    {
     "name": "stderr",
     "output_type": "stream",
     "text": [
      "Building prefix dict from the default dictionary ...\n",
      "Loading model from cache C:\\Users\\Hongwen\\AppData\\Local\\Temp\\jieba.cache\n",
      "Loading model cost 0.763 seconds.\n",
      "Prefix dict has been built succesfully.\n"
     ]
    },
    {
     "data": {
      "text/plain": [
       "['我',\n",
       " '今天',\n",
       " '吃',\n",
       " '了',\n",
       " '西红柿',\n",
       " '炒面',\n",
       " '，',\n",
       " '隔壁',\n",
       " '的',\n",
       " '人',\n",
       " '也',\n",
       " '是',\n",
       " '因吹斯',\n",
       " '听',\n",
       " '的',\n",
       " '人']"
      ]
     },
     "execution_count": 3,
     "metadata": {},
     "output_type": "execute_result"
    }
   ],
   "source": [
    "import jieba\n",
    "jieba.lcut('我今天吃了西红柿炒面，隔壁的人也是因吹斯听的人')"
   ]
  },
  {
   "cell_type": "markdown",
   "metadata": {
    "slideshow": {
     "slide_type": "slide"
    }
   },
   "source": [
    "### 1.2.2 将tencent Embedding字典导入本地"
   ]
  },
  {
   "cell_type": "code",
   "execution_count": 4,
   "metadata": {
    "slideshow": {
     "slide_type": "subslide"
    }
   },
   "outputs": [],
   "source": [
    "from tqdm import tqdm\n",
    "\n",
    "def gendict(inputFile, ouputFile):\n",
    "    output_f = open(ouputFile, 'a', encoding='utf8')\n",
    "    with open(inputFile, \"r\", encoding='ISO-8859-1') as f:\n",
    "        header = f.readline()\n",
    "        vocab_size, vector_size = map(int, header.split())\n",
    "        for i in tqdm(range(vocab_size)):\n",
    "            line = f.readline()\n",
    "            lists = line.split(' ')\n",
    "            word = lists[0]\n",
    "            try: \n",
    "                word = word.encode('ISO-8859-1').decode('utf8')\n",
    "                output_f.write(word+'\\n')\n",
    "            except: pass\n",
    "        output_f.close()\n",
    "        f.close()\n",
    "\n",
    "#gendict('E:\\\\Desktop\\\\nlp\\\\Tencent_AILab_ChineseEmbedding.txt', 'E:\\\\Desktop\\\\nlp\\\\jieba.txt')            "
   ]
  },
  {
   "cell_type": "code",
   "execution_count": 5,
   "metadata": {
    "scrolled": true,
    "slideshow": {
     "slide_type": "subslide"
    }
   },
   "outputs": [],
   "source": [
    "import jieba\n",
    "\n",
    "jieba.load_userdict('E:\\\\Desktop\\\\nlp\\\\jieba.txt')"
   ]
  },
  {
   "cell_type": "markdown",
   "metadata": {
    "slideshow": {
     "slide_type": "slide"
    }
   },
   "source": [
    "### 1.2.3 利用新词典进行分词"
   ]
  },
  {
   "cell_type": "code",
   "execution_count": 6,
   "metadata": {
    "slideshow": {
     "slide_type": "subslide"
    }
   },
   "outputs": [
    {
     "data": {
      "text/plain": [
       "['我', '今天', '吃了', '西红柿炒面', '，', '隔壁', '的人', '也是', '因吹斯听', '的人']"
      ]
     },
     "execution_count": 6,
     "metadata": {},
     "output_type": "execute_result"
    }
   ],
   "source": [
    "jieba.lcut('我今天吃了西红柿炒面，隔壁的人也是因吹斯听的人')"
   ]
  }
 ],
 "metadata": {
  "celltoolbar": "Slideshow",
  "kernelspec": {
   "display_name": "Python 3",
   "language": "python",
   "name": "python3"
  },
  "language_info": {
   "codemirror_mode": {
    "name": "ipython",
    "version": 3
   },
   "file_extension": ".py",
   "mimetype": "text/x-python",
   "name": "python",
   "nbconvert_exporter": "python",
   "pygments_lexer": "ipython3",
   "version": "3.6.5"
  }
 },
 "nbformat": 4,
 "nbformat_minor": 2
}
