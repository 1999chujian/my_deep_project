{
 "cells": [
  {
   "cell_type": "markdown",
   "metadata": {
    "slideshow": {
     "slide_type": "slide"
    }
   },
   "source": [
    "# 开源词嵌入向量实验\n"
   ]
  },
  {
   "cell_type": "markdown",
   "metadata": {},
   "source": [
    "## Tencent AI-lib \n",
    "Tencent AI Lab Embedding Corpus for Chinese Words and Phrases\n"
   ]
  },
  {
   "cell_type": "code",
   "execution_count": 1,
   "metadata": {},
   "outputs": [
    {
     "data": {
      "text/plain": [
       "'8825658 200\\n'"
      ]
     },
     "execution_count": 1,
     "metadata": {},
     "output_type": "execute_result"
    }
   ],
   "source": [
    "import numpy as np\n",
    "\n",
    "input_path = 'E:\\\\Desktop\\\\nlp\\\\Tencent_AILab_ChineseEmbedding.txt'\n",
    "output_path = 'E:\\\\Desktop\\\\nlp\\\\Tencent_AILab_ChineseEmbedding_clean.txt'\n",
    "input_f = open(input_path, 'r', encoding='utf-8')\n",
    "output_f = open(output_path, 'w', encoding='utf-8')\n",
    "line = input_f.readline()\n",
    "line"
   ]
  },
  {
   "cell_type": "code",
   "execution_count": null,
   "metadata": {},
   "outputs": [],
   "source": [
    "#coding:utf-8\n",
    "\n",
    "from gensim.models import KeyedVectors\n",
    "\n",
    "filepath = 'E:\\\\Desktop\\\\nlp\\\\Tencent_AILab_ChineseEmbedding.txt'\n",
    "model = KeyedVectors.load_word2vec_format(filepath, binary=False, unicode_errors='ignore')\n",
    "\n",
    "print(model['你好'])"
   ]
  }
 ],
 "metadata": {
  "celltoolbar": "Slideshow",
  "kernelspec": {
   "display_name": "Python 3",
   "language": "python",
   "name": "python3"
  },
  "language_info": {
   "codemirror_mode": {
    "name": "ipython",
    "version": 3
   },
   "file_extension": ".py",
   "mimetype": "text/x-python",
   "name": "python",
   "nbconvert_exporter": "python",
   "pygments_lexer": "ipython3",
   "version": "3.6.5"
  }
 },
 "nbformat": 4,
 "nbformat_minor": 2
}
