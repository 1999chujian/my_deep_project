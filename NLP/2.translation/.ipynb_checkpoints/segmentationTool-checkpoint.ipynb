{
 "cells": [
  {
   "cell_type": "markdown",
   "metadata": {
    "slideshow": {
     "slide_type": "slide"
    }
   },
   "source": [
    "# 分词工具测试\n",
    "- 直接切分\n",
    "- jieba\n",
    "- hanLP\n",
    "\n",
    "## 实验数据\n",
    "- cmn.txt\n",
    "\n",
    "## 读取数据"
   ]
  },
  {
   "cell_type": "code",
   "execution_count": 1,
   "metadata": {
    "slideshow": {
     "slide_type": "subslide"
    }
   },
   "outputs": [
    {
     "name": "stdout",
     "output_type": "stream",
     "text": [
      "总数据：\n",
      " ['Hi.\\t嗨。\\n', 'Hi.\\t你好。\\n', 'Run.\\t你用跑的。\\n', 'Wait!\\t等等！\\n', 'Hello!\\t你好。\\n', 'I try.\\t让我来。\\n', 'I won!\\t我赢了。\\n', 'Oh no!\\t不会吧。\\n', 'Cheers!\\t乾杯!\\n', 'He ran.\\t他跑了。\\n']\n"
     ]
    }
   ],
   "source": [
    "with open('cmn.txt', 'r', encoding='utf-8') as f:\n",
    "    data = f.readlines()\n",
    "\n",
    "data = data[:10]\n",
    "print('总数据：\\n', data)"
   ]
  },
  {
   "cell_type": "markdown",
   "metadata": {
    "slideshow": {
     "slide_type": "slide"
    }
   },
   "source": [
    "## 直接切分"
   ]
  },
  {
   "cell_type": "code",
   "execution_count": 2,
   "metadata": {
    "scrolled": true,
    "slideshow": {
     "slide_type": "subslide"
    }
   },
   "outputs": [
    {
     "name": "stdout",
     "output_type": "stream",
     "text": [
      "\n",
      "英文数据：\n",
      " ['Hi.', 'Hi.', 'Run.', 'Wait!', 'Hello!', 'I try.', 'I won!', 'Oh no!', 'Cheers!', 'He ran.']\n",
      "\n",
      "中文数据：\n",
      " ['嗨。', '你好。', '你用跑的。', '等等！', '你好。', '让我来。', '我赢了。', '不会吧。', '乾杯!', '他跑了。']\n",
      "直接分词英文字典：\n",
      " [' ', '!', '.', 'C', 'H', 'I', 'O', 'R', 'W', 'a', 'e', 'h', 'i', 'l', 'n', 'o', 'r', 's', 't', 'u', 'w', 'y']\n",
      "\n",
      "直接分词中文字典：\n",
      " ['!', '。', '不', '乾', '了', '他', '会', '你', '吧', '嗨', '好', '我', '来', '杯', '用', '的', '等', '让', '赢', '跑', '！']\n"
     ]
    }
   ],
   "source": [
    "en_list = [line.split('\\t')[0] for line in data]\n",
    "print('\\n英文数据：\\n', en_list)\n",
    "\n",
    "ch_list = [line.split('\\t')[1].strip('\\n') for line in data]\n",
    "print('\\n中文数据：\\n', ch_list)\n",
    "\n",
    "en_vocab = sorted(set(''.join(en_list)))\n",
    "print('直接分词英文字典：\\n', en_vocab)\n",
    "\n",
    "ch_vocab = sorted(set(''.join(ch_list)))\n",
    "print('\\n直接分词中文字典：\\n', ch_vocab)"
   ]
  },
  {
   "cell_type": "markdown",
   "metadata": {
    "slideshow": {
     "slide_type": "slide"
    }
   },
   "source": [
    "## 结巴分词工具\n",
    "\n",
    "详细功能查阅：[jieba github](https://github.com/fxsjy/jieba)\n",
    "\n",
    "结巴能够添加自己词库的功能\n"
   ]
  },
  {
   "cell_type": "code",
   "execution_count": 3,
   "metadata": {
    "slideshow": {
     "slide_type": "subslide"
    }
   },
   "outputs": [
    {
     "name": "stderr",
     "output_type": "stream",
     "text": [
      "Building prefix dict from the default dictionary ...\n",
      "Loading model from cache C:\\Users\\Hongwen\\AppData\\Local\\Temp\\jieba.cache\n",
      "Loading model cost 0.748 seconds.\n",
      "Prefix dict has been built succesfully.\n"
     ]
    },
    {
     "name": "stdout",
     "output_type": "stream",
     "text": [
      "英文数据——结巴分词：\n",
      " [['Hi', '.'], ['Hi', '.'], ['Run', '.'], ['Wait', '!'], ['Hello', '!'], ['I', ' ', 'try', '.'], ['I', ' ', 'won', '!'], ['Oh', ' ', 'no', '!'], ['Cheers', '!'], ['He', ' ', 'ran', '.']]\n",
      "\n",
      "中文数据——结巴分词：\n",
      " [['嗨', '。'], ['你好', '。'], ['你', '用', '跑', '的', '。'], ['等等', '！'], ['你好', '。'], ['让', '我', '来', '。'], ['我', '赢', '了', '。'], ['不会', '吧', '。'], ['乾杯', '!'], ['他', '跑', '了', '。']]\n",
      "\n",
      "jieba分词英文字典：\n",
      " [' ', '!', '.', 'Cheers', 'He', 'Hello', 'Hi', 'I', 'Oh', 'Run', 'Wait', 'no', 'ran', 'try', 'won']\n",
      "\n",
      "jieba分词中文字典：\n",
      " ['!', '。', '不会', '乾杯', '了', '他', '你', '你好', '吧', '嗨', '我', '来', '用', '的', '等等', '让', '赢', '跑', '！']\n"
     ]
    }
   ],
   "source": [
    "import jieba\n",
    "\n",
    "jieba_en_list = [jieba.lcut(line) for line in en_list]\n",
    "print('英文数据——结巴分词：\\n', jieba_en_list)\n",
    "\n",
    "jieba_ch_list = [jieba.lcut(line) for line in ch_list]\n",
    "print('\\n中文数据——结巴分词：\\n', jieba_ch_list)\n",
    "\n",
    "jieba_en_vocab =[char for line in jieba_en_list for char in line]\n",
    "jieba_en_vocab = sorted(set(jieba_en_vocab))\n",
    "print('\\njieba分词英文字典：\\n', jieba_en_vocab)\n",
    "\n",
    "jieba_ch_vocab =[char for line in jieba_ch_list for char in line]\n",
    "jieba_ch_vocab = sorted(set(jieba_ch_vocab))\n",
    "print('\\njieba分词中文字典：\\n', jieba_ch_vocab)"
   ]
  },
  {
   "cell_type": "markdown",
   "metadata": {
    "slideshow": {
     "slide_type": "slide"
    }
   },
   "source": [
    "## HanLP分词工具\n",
    "\n",
    "python调用：[pyhanlp](https://github.com/hankcs/pyhanlp)\n",
    "\n",
    "主项目文档：[详细文档](https://github.com/hankcs/HanLP)\n",
    "- 执行：\n",
    "`pip install hanlp`\n",
    "\n",
    "- 报错先执行：\n",
    "`conda install -c conda-forge jpype1`_(使用anaconda）_"
   ]
  },
  {
   "cell_type": "code",
   "execution_count": 8,
   "metadata": {
    "scrolled": true,
    "slideshow": {
     "slide_type": "subslide"
    }
   },
   "outputs": [
    {
     "name": "stdout",
     "output_type": "stream",
     "text": [
      "[<jpype._jclass.java.util.ArrayList object at 0x0000020CF105E0B8>]\n",
      "下雨天\tn\n",
      "地面\tn\n",
      "积水\tn\n",
      "[商品/n, 和/cc, 服务/vn]\n",
      "[结婚/vi, 的/ude1, 和/cc, 尚未/d, 结婚/vi, 的/ude1, 确实/ad, 在/p, 干扰/vn, 分词/n, 啊/y]\n",
      "[买/v, 水果/n, 然后/c, 来/vf, 世博园/n, 最后/f, 去/vf, 世博会/n]\n",
      "[中国/ns, 的/ude1, 首都/n, 是/vshi, 北京/ns]\n",
      "[欢迎/v, 新/a, 老/a, 师生/n, 前来/vi, 就餐/vi]\n",
      "[工信处/nt, 女/b, 干事/nnt, 每月/t, 经过/p, 下属/v, 科室/n, 都/d, 要/v, 亲口/d, 交代/v, 24/m, 口/n, 交换机/n, 等/udeng, 技术性/n, 器件/n, 的/ude1, 安装/v, 工作/vn]\n",
      "[随着/p, 页游/nz, 兴起/v, 到/v, 现在/t, 的/ude1, 页游/nz, 繁盛/a, ，/w, 依赖于/v, 存档/vi, 进行/vn, 逻辑/n, 判断/v, 的/ude1, 设计/vn, 减少/v, 了/ule, ，/w, 但/c, 这/rzv, 块/q, 也/d, 不能/v, 完全/ad, 忽略/v, 掉/v, 。/w]\n",
      "[水资源, 陈明忠]\n",
      "[严格地进行水资源论证和取水许可的批准, 有部分省超过红线的指标, 水利部水资源司司长陈明忠9月29日在国务院新闻办举行的新闻发布会上透露]\n",
      "1\t徐先生\t徐先生\tnh\tnr\t_\t4\t主谓关系\t_\t_\n",
      "2\t还\t还\td\td\t_\t4\t状中结构\t_\t_\n",
      "3\t具体\t具体\ta\tad\t_\t4\t状中结构\t_\t_\n",
      "4\t帮助\t帮助\tv\tv\t_\t0\t核心关系\t_\t_\n",
      "5\t他\t他\tr\tr\t_\t4\t兼语\t_\t_\n",
      "6\t确定\t确定\tv\tv\t_\t4\t动宾关系\t_\t_\n",
      "7\t了\t了\tu\tu\t_\t6\t右附加关系\t_\t_\n",
      "8\t把\t把\tp\tp\t_\t15\t状中结构\t_\t_\n",
      "9\t画\t画\tv\tv\t_\t8\t介宾关系\t_\t_\n",
      "10\t雄鹰\t雄鹰\tn\tn\t_\t9\t动宾关系\t_\t_\n",
      "11\t、\t、\twp\tw\t_\t12\t标点符号\t_\t_\n",
      "12\t松鼠\t松鼠\tn\tn\t_\t10\t并列关系\t_\t_\n",
      "13\t和\t和\tc\tc\t_\t14\t左附加关系\t_\t_\n",
      "14\t麻雀\t麻雀\tn\tn\t_\t10\t并列关系\t_\t_\n",
      "15\t作为\t作为\tv\tv\t_\t6\t动宾关系\t_\t_\n",
      "16\t主攻\t主攻\tv\tvn\t_\t17\t定中关系\t_\t_\n",
      "17\t目标\t目标\tn\tn\t_\t15\t动宾关系\t_\t_\n",
      "18\t。\t。\twp\tw\t_\t4\t标点符号\t_\t_\n",
      "\n"
     ]
    }
   ],
   "source": [
    "from pyhanlp import *\n",
    "\n",
    "print([[term.word for term in HanLP.segment(line)] for line in list()])\n",
    "\n",
    "for term in HanLP.segment('下雨天地面积水'):\n",
    "    print('{}\\t{}'.format(term.word, term.nature)) # 获取单词与词性\n",
    "\n",
    "testCases = [\n",
    "    \"商品和服务\",\n",
    "    \"结婚的和尚未结婚的确实在干扰分词啊\",\n",
    "    \"买水果然后来世博园最后去世博会\",\n",
    "    \"中国的首都是北京\",\n",
    "    \"欢迎新老师生前来就餐\",\n",
    "    \"工信处女干事每月经过下属科室都要亲口交代24口交换机等技术性器件的安装工作\",\n",
    "    \"随着页游兴起到现在的页游繁盛，依赖于存档进行逻辑判断的设计减少了，但这块也不能完全忽略掉。\"]\n",
    "\n",
    "for sentence in testCases: print(HanLP.segment(sentence))\n",
    "\n",
    "# 关键词提取\n",
    "document = \"水利部水资源司司长陈明忠9月29日在国务院新闻办举行的新闻发布会上透露，\" \\\n",
    "           \"根据刚刚完成了水资源管理制度的考核，有部分省接近了红线的指标，\" \\\n",
    "           \"有部分省超过红线的指标。对一些超过红线的地方，陈明忠表示，对一些取用水项目进行区域的限批，\" \\\n",
    "           \"严格地进行水资源论证和取水许可的批准。\"\n",
    "print(HanLP.extractKeyword(document, 2))\n",
    "\n",
    "# 自动摘要\n",
    "print(HanLP.extractSummary(document, 3))\n",
    "\n",
    "# 依存句法分析\n",
    "print(HanLP.parseDependency(\"徐先生还具体帮助他确定了把画雄鹰、松鼠和麻雀作为主攻目标。\"))"
   ]
  },
  {
   "cell_type": "code",
   "execution_count": null,
   "metadata": {},
   "outputs": [],
   "source": []
  }
 ],
 "metadata": {
  "celltoolbar": "Slideshow",
  "kernelspec": {
   "display_name": "Python 3",
   "language": "python",
   "name": "python3"
  },
  "language_info": {
   "codemirror_mode": {
    "name": "ipython",
    "version": 3
   },
   "file_extension": ".py",
   "mimetype": "text/x-python",
   "name": "python",
   "nbconvert_exporter": "python",
   "pygments_lexer": "ipython3",
   "version": "3.6.5"
  }
 },
 "nbformat": 4,
 "nbformat_minor": 2
}
